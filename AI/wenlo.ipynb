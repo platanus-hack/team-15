{
 "cells": [
  {
   "cell_type": "code",
   "execution_count": 2,
   "metadata": {},
   "outputs": [
    {
     "name": "stdout",
     "output_type": "stream",
     "text": [
      "{\"errorMessage\": \"'content'\", \"errorType\": \"KeyError\", \"requestId\": \"fda0b877-d253-49b0-8f50-958f0b9d6f65\", \"stackTrace\": [\"  File \\\"/var/task/lambda_function.py\\\", line 7, in lambda_handler\\n    get_file_content = event[\\\"content\\\"]['file_content']\\n\"]}\n"
     ]
    }
   ],
   "source": [
    "import boto3\n",
    "import base64\n",
    "import json\n",
    "\n",
    "# Initialize the Lambda client\n",
    "lambda_client = boto3.client('lambda')\n",
    "\n",
    "# Read and encode the PDF file\n",
    "with open(\"1.pdf\", \"rb\") as file:\n",
    "    pdf_content = base64.b64encode(file.read()).decode('utf-8')\n",
    "\n",
    "\n",
    "print(type(json.dumps({\n",
    "        \"file_name\": \"example.pdf\",\n",
    "        \"file_content\": pdf_content\n",
    "    })))\n",
    "value = {\n",
    "        \"file_name\": \"example.pdf\",\n",
    "        \"file_content\": pdf_content\n",
    "    }\n",
    "# Invoke the Lambda function\n",
    "response = lambda_client.invoke(\n",
    "    FunctionName=\"pdfUpload\",\n",
    "    InvocationType=\"RequestResponse\",  # Or 'Event' for async\n",
    "    Payload=value\n",
    ")\n",
    "\n",
    "# Print the response from Lambda\n",
    "response_payload = response['Payload'].read().decode('utf-8')\n",
    "print(response_payload)\n"
   ]
  },
  {
   "cell_type": "code",
   "execution_count": null,
   "metadata": {},
   "outputs": [],
   "source": []
  }
 ],
 "metadata": {
  "kernelspec": {
   "display_name": "base",
   "language": "python",
   "name": "python3"
  },
  "language_info": {
   "codemirror_mode": {
    "name": "ipython",
    "version": 3
   },
   "file_extension": ".py",
   "mimetype": "text/x-python",
   "name": "python",
   "nbconvert_exporter": "python",
   "pygments_lexer": "ipython3",
   "version": "3.10.10"
  }
 },
 "nbformat": 4,
 "nbformat_minor": 2
}
